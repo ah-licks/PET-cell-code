{
 "cells": [
  {
   "cell_type": "code",
   "execution_count": 2,
   "id": "eeaa0148-ecf5-4d38-b452-cecc83a4f41e",
   "metadata": {},
   "outputs": [],
   "source": [
    "#importing\n",
    "import csv\n",
    "import numpy as np\n",
    "import matplotlib.pyplot as plt\n",
    "import copy\n",
    "import math\n",
    "import keras\n",
    "import pandas as pd\n",
    "import xgboost as xgb"
   ]
  },
  {
   "cell_type": "code",
   "execution_count": 17,
   "id": "9ecf0b03-243e-4445-ad52-2720103d9be7",
   "metadata": {},
   "outputs": [],
   "source": [
    "#getting data\n",
    "file = open('/home/ni/Downloads/Geant4 Data/output_nt_Hits_ring.csv')\n",
    "csvreader = csv.reader(file)\n",
    "#first 15 rows aren't needed\n",
    "line_count = 0\n",
    "data = []\n",
    "for row in csvreader:\n",
    "    if line_count >= 15:\n",
    "        data.append([float(i) for i in row])\n",
    "    line_count += 1\n",
    "\n",
    "#smearing point generation\n",
    "for row in range(len(data)):\n",
    "    smearing = np.random.rand(3)\n",
    "    for i in range(3):\n",
    "        smearing[i] -= 0.5\n",
    "    #normalization and putting it to average distance (overestimating smearing (turning 0.3 to 0.4))\n",
    "    multiplier = 1/(math.sqrt(pow(smearing[0], 2) + pow(smearing[1], 2) + pow(smearing[2], 2))) * 4\n",
    "    smearing *= multiplier\n",
    "    for i in range(3):\n",
    "        data[row][i] += smearing[i]\n",
    "\n",
    "cases = len(data)//100\n",
    "data = np.array(data)\n",
    "data = data.reshape((cases, 100, 11))"
   ]
  },
  {
   "cell_type": "code",
   "execution_count": 18,
   "id": "c21424ef-52d7-42eb-862b-381bb6ab1571",
   "metadata": {},
   "outputs": [],
   "source": [
    "X, y = np.split(data, [8], axis=2)\n",
    "X = X.reshape((cases, 100, 8))\n",
    "y = y.reshape((cases*100, 3))[::100]"
   ]
  },
  {
   "cell_type": "code",
   "execution_count": 19,
   "id": "66ffc701-7365-4b0c-8595-d4c429d95bb4",
   "metadata": {
    "scrolled": true
   },
   "outputs": [
    {
     "name": "stdout",
     "output_type": "stream",
     "text": [
      "Average Distance (mm): 0.35017584196168816\n",
      "Median Distance (mm): 0.35017584196168816\n"
     ]
    },
    {
     "data": {
      "image/png": "[encoded data removed]",
      "text/plain": [
       "<Figure size 640x480 with 1 Axes>"
      ]
     },
     "metadata": {},
     "output_type": "display_data"
    }
   ],
   "source": [
    "def line(p1, p2):\n",
    "    A = (p1[1] - p2[1])\n",
    "    B = (p2[0] - p1[0])\n",
    "    C = (p1[0]*p2[1] - p2[0]*p1[1])\n",
    "    return A, B, -C\n",
    "\n",
    "def intersection(L1, L2):\n",
    "    D  = L1[0] * L2[1] - L1[1] * L2[0]\n",
    "    Dx = L1[2] * L2[1] - L1[1] * L2[2]\n",
    "    Dy = L1[0] * L2[2] - L1[2] * L2[0]\n",
    "    if D != 0:\n",
    "        x = Dx / D\n",
    "        y = Dy / D\n",
    "        return x,y\n",
    "    else:\n",
    "        return False\n",
    "\n",
    "\n",
    "distances = []\n",
    "for i in range(X.shape[0]):\n",
    "    lines = []\n",
    "    intersection_points = []\n",
    "    for j in range(X.shape[1]):\n",
    "        lines.append(line([X[i][j][1], X[i][j][2]], [X[i][j][4], X[i][j][5]]))\n",
    "    for a in range(len(lines)):\n",
    "        for b in range(a, len(lines)):\n",
    "            if a == b:\n",
    "                continue\n",
    "            point = intersection(lines[a], lines[b])\n",
    "            if point and math.dist([0, 0], point) < 600:\n",
    "                intersection_points.append(point)\n",
    "    average = [sum(x)/len(x) for x in zip(*intersection_points)]\n",
    "    distances.append(math.dist(average, y[i][:2]))\n",
    "    \n",
    "print(\"Average Distance (mm): \" + str(np.average(distances)))\n",
    "print(\"Median Distance (mm): \" + str(np.median(distances)))\n",
    "    \n",
    "#histogram\n",
    "plt.hist(distances, bins=100)\n",
    "plt.xlabel('Distance Between Original Point and Reconstructed Point (mm)')\n",
    "plt.ylabel('Counts')\n",
    "plt.show()"
   ]
  },
  {
   "cell_type": "code",
   "execution_count": 16,
   "id": "3762f88a-c042-47ec-999c-281ed108014c",
   "metadata": {},
   "outputs": [],
   "source": [
    "#reconstruction_distances = np.array(distances)\n",
    "#np.savetxt('reconstruction_4_mm.csv', reconstruction_distances)"
   ]
  },
  {
   "cell_type": "code",
   "execution_count": null,
   "id": "e436394d-21d7-4679-8400-11e78361715c",
   "metadata": {},
   "outputs": [],
   "source": []
  }
 ],
 "metadata": {
  "kernelspec": {
   "display_name": "tf-gpu",
   "language": "python",
   "name": "tf-gpu"
  },
  "language_info": {
   "codemirror_mode": {
    "name": "ipython",
    "version": 3
   },
   "file_extension": ".py",
   "mimetype": "text/x-python",
   "name": "python",
   "nbconvert_exporter": "python",
   "pygments_lexer": "ipython3",
   "version": "3.9.19"
  }
 },
 "nbformat": 4,
 "nbformat_minor": 5
}
